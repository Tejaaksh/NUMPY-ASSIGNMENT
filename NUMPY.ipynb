{
  "nbformat": 4,
  "nbformat_minor": 0,
  "metadata": {
    "colab": {
      "provenance": []
    },
    "kernelspec": {
      "name": "python3",
      "display_name": "Python 3"
    },
    "language_info": {
      "name": "python"
    }
  },
  "cells": [
    {
      "cell_type": "code",
      "execution_count": 2,
      "metadata": {
        "id": "C4OQ6OhxrFnG"
      },
      "outputs": [],
      "source": [
        "\"\"\"1. Explain the purpose and advantages of NumPy in scientific computing and data analysis. How does it\n",
        "enhance Python's capabilities for numerical operations?\"\"\"\n",
        "\n",
        "# NumPy (Numerical Python) is a fundamental package for scientific computing and data analysis in Python.\n",
        "# It provides support for large, multi-dimensional arrays and matrices, along with a wide range of mathematical functions to operate on them.\n",
        "\n",
        "# Purpose:\n",
        "\n",
        "# Efficiently handle large datasets for numerical computations.\n",
        "# Serve as a foundation for more complex libraries (like Pandas, TensorFlow, etc.).\n",
        "\n",
        "# Advantages:\n",
        "\n",
        "# Performance: NumPy arrays (ndarrays) are faster than Python lists due to their homogeneous data types and optimized C-based backend.\n",
        "# Memory Efficiency: NumPy uses contiguous memory blocks, minimizing memory overhead.\n",
        "# Vectorized Operations: Allows element-wise operations on arrays without using loops.\n",
        "# Broadcasting: Facilitates operations on arrays of different shapes by extending the dimensions implicitly.\n",
        "# Integration: NumPy easily integrates with other libraries like SciPy, Matplotlib, and Pandas, extending its capabilities for scientific computing.\n",
        "\n",
        "import numpy as np  # Import NumPy and assign it to the alias 'np'"
      ]
    },
    {
      "cell_type": "code",
      "source": [
        "\"\"\"2. Compare and contrast np.mean() and np.average() functions in NumPy. When would you use one over the\n",
        "other?\"\"\"\n",
        "\n",
        "# np.mean(): This function calculates the arithmetic mean along the specified axis or for the entire array. It treats all elements equally.\n",
        "np.mean([1, 2, 3, 4])  # Output: 2.5\n",
        "\n",
        "# np.average(): This function also calculates the arithmetic mean but allows weighting of the elements.\n",
        "#  A weights array can be provided, which affects the contribution of each element to the mean.\n",
        "\n",
        "np.average([1, 2, 3, 4], weights=[1, 2, 3, 4])  # Output: 3.0\n",
        "\n",
        "print(np.mean([1, 2, 3, 4]), np.average([1, 2, 3, 4], weights=[1, 2, 3, 4]))"
      ],
      "metadata": {
        "colab": {
          "base_uri": "https://localhost:8080/"
        },
        "id": "eqiGGCRysUzy",
        "outputId": "3c5fc991-6ebf-4047-eb49-4c7ee5d2a6d6"
      },
      "execution_count": 3,
      "outputs": [
        {
          "output_type": "stream",
          "name": "stdout",
          "text": [
            "2.5 3.0\n"
          ]
        }
      ]
    },
    {
      "cell_type": "code",
      "source": [
        "\"\"\"3. Describe the methods for reversing a NumPy array along different axes. Provide examples for 1D and 2D\n",
        "arrays.\"\"\"\n",
        "# 1D Array:\n",
        "arr = np.array([1, 2, 3, 4])\n",
        "reversed_arr = arr[::-1]  # Output: [4, 3, 2, 1]\n",
        "print(reversed_arr)"
      ],
      "metadata": {
        "colab": {
          "base_uri": "https://localhost:8080/"
        },
        "id": "VGiGh4IFsbGD",
        "outputId": "401a21b3-8bef-46f2-b2c6-42fb47e62ed8"
      },
      "execution_count": 5,
      "outputs": [
        {
          "output_type": "stream",
          "name": "stdout",
          "text": [
            "[4 3 2 1]\n"
          ]
        }
      ]
    },
    {
      "cell_type": "code",
      "source": [
        "# 2D Array (row-wise or column-wise):\n",
        "\n",
        "arr_2d = np.array([[1, 2], [3, 4], [5, 6]])\n",
        "reversed_rows = arr_2d[::-1, :]  # Reverses rows\n",
        "reversed_cols = arr_2d[:, ::-1]  # Reverses columns\n",
        "print(reversed_rows)\n",
        "print(reversed_cols)"
      ],
      "metadata": {
        "colab": {
          "base_uri": "https://localhost:8080/"
        },
        "id": "Eyu4hiXRuQ89",
        "outputId": "2fc825cc-bb72-411e-9dbd-4c02ef438ab9"
      },
      "execution_count": 6,
      "outputs": [
        {
          "output_type": "stream",
          "name": "stdout",
          "text": [
            "[[5 6]\n",
            " [3 4]\n",
            " [1 2]]\n",
            "[[2 1]\n",
            " [4 3]\n",
            " [6 5]]\n"
          ]
        }
      ]
    },
    {
      "cell_type": "code",
      "source": [
        "\"\"\"4. How can you determine the data type of elements in a NumPy array? Discuss the importance of data types\n",
        "in memory management and performance.\"\"\"\n",
        "\n",
        "# To check the data type of elements in a NumPy array, use the dtype attribute:\n",
        "\n",
        "arr = np.array([1, 2, 3])\n",
        "print(arr.dtype)  # Output: int32 or int64\n",
        "\n",
        "# Importance of Data Types: Data types in NumPy are crucial for memory management and performance.\n",
        "# NumPy allows you to choose data types explicitly (e.g., int8, float32, etc.),\n",
        "# which optimizes the amount of memory used and ensures compatibility with hardware-level\n",
        "# optimizations (such as vectorized instructions in modern CPUs)."
      ],
      "metadata": {
        "colab": {
          "base_uri": "https://localhost:8080/"
        },
        "id": "TtJybzljsxdg",
        "outputId": "a2981175-b84d-4f2c-d310-1042bc094d94"
      },
      "execution_count": 7,
      "outputs": [
        {
          "output_type": "stream",
          "name": "stdout",
          "text": [
            "int64\n"
          ]
        }
      ]
    },
    {
      "cell_type": "code",
      "source": [
        "\"\"\"5. Define ndarrays in NumPy and explain their key features. How do they differ from standard Python lists?\"\"\"\n",
        "# An ndarray (n-dimensional array) is the primary data structure in NumPy. It is a grid of values, all of the same data type, indexed by tuples of non-negative integers.\n",
        "\n",
        "# Key Features:\n",
        "\n",
        "# Fixed size and homogeneous elements.\n",
        "# Supports multidimensional arrays.\n",
        "# Offers element-wise operations, broadcasting, slicing, and reshaping.\n",
        "# Methods for mathematical and logical operations.\n",
        "# Difference from Python Lists:\n",
        "\n",
        "# Python lists can hold heterogeneous data types, while NumPy arrays require homogeneous types.\n",
        "# NumPy arrays are much faster and consume less memory for large datasets."
      ],
      "metadata": {
        "id": "Qlpq81-Asy9H"
      },
      "execution_count": null,
      "outputs": []
    },
    {
      "cell_type": "code",
      "source": [
        "\"\"\"6. Analyze the performance benefits of NumPy arrays over Python lists for large-scale numerical operations.\"\"\"\n",
        "\n",
        "# Memory Efficiency: NumPy arrays are stored in contiguous memory blocks, making access and modifications faster. Python lists are essentially arrays of pointers to objects, introducing overhead.\n",
        "# Speed: NumPy leverages compiled C code, allowing for optimized execution of operations, particularly for large datasets. Python lists rely on interpreted Python code, which is slower.\n",
        "# Vectorization: Operations on NumPy arrays are applied element-wise without requiring explicit loops, significantly improving performance for large-scale numerical operations.\n"
      ],
      "metadata": {
        "id": "mhEcix3Os0ao"
      },
      "execution_count": null,
      "outputs": []
    },
    {
      "cell_type": "code",
      "source": [
        "\"\"\"7. Compare vstack() and hstack() functions in NumPy. Provide examples demonstrating their usage and output.\"\"\"\n",
        "# vstack(): Stacks arrays vertically (row-wise).\n",
        "arr1 = np.array([1, 2])\n",
        "arr2 = np.array([3, 4])\n",
        "np.vstack((arr1, arr2))\n",
        "# Output:\n",
        "# [[1, 2]\n",
        "#  [3, 4]]\n",
        "\n",
        "# hstack(): Stacks arrays horizontally (column-wise).\n",
        "\n",
        "np.hstack((arr1, arr2))\n",
        "# Output: [1, 2, 3, 4]\n",
        "\n",
        "print(np.vstack((arr1, arr2)))\n",
        "print(np.hstack((arr1, arr2)))"
      ],
      "metadata": {
        "colab": {
          "base_uri": "https://localhost:8080/"
        },
        "id": "c14vkQyws1oo",
        "outputId": "5ff614f9-08d8-4778-c0e7-947ed13806f6"
      },
      "execution_count": 8,
      "outputs": [
        {
          "output_type": "stream",
          "name": "stdout",
          "text": [
            "[[1 2]\n",
            " [3 4]]\n",
            "[1 2 3 4]\n"
          ]
        }
      ]
    },
    {
      "cell_type": "code",
      "source": [
        "\"\"\"8. Explain the differences between fliplr() and flipud() methods in NumPy, including their effects on various array dimensions.\"\"\"\n",
        "# fliplr(): Flips an array horizontally (left to right).\n",
        "\n",
        "arr = np.array([[1, 2], [3, 4], [5, 6]])\n",
        "np.fliplr(arr)\n",
        "# Output:\n",
        "# [[2, 1]\n",
        "#  [4, 3]\n",
        "#  [6, 5]]\n",
        "\n",
        "# flipud(): Flips an array vertically (upside down).\n",
        "\n",
        "np.flipud(arr)\n",
        "# Output:\n",
        "# [[5, 6]\n",
        "#  [3, 4]\n",
        "#  [1, 2]]\n",
        "\n",
        "print(np.fliplr(arr))\n",
        "print(np.flipud(arr))"
      ],
      "metadata": {
        "colab": {
          "base_uri": "https://localhost:8080/"
        },
        "id": "v2LhcM2Cs3af",
        "outputId": "689aafca-cceb-43f2-faa6-75a2f9ab98e8"
      },
      "execution_count": 9,
      "outputs": [
        {
          "output_type": "stream",
          "name": "stdout",
          "text": [
            "[[2 1]\n",
            " [4 3]\n",
            " [6 5]]\n",
            "[[5 6]\n",
            " [3 4]\n",
            " [1 2]]\n"
          ]
        }
      ]
    },
    {
      "cell_type": "code",
      "source": [
        "\"\"\"9. Discuss the functionality of the array_split() method in NumPy. How does it handle uneven splits?\"\"\"\n",
        "\n",
        "# array_split() splits an array into multiple sub-arrays. It can handle uneven splits by distributing extra elements as evenly as possible.\n",
        "\n",
        "arr = np.array([1, 2, 3, 4, 5])\n",
        "np.array_split(arr, 3)\n",
        "# Output: [array([1, 2]), array([3, 4]), array([5])]\n",
        "print(np.array_split(arr, 3))"
      ],
      "metadata": {
        "colab": {
          "base_uri": "https://localhost:8080/"
        },
        "id": "jlKhtZd6s4pQ",
        "outputId": "24a94307-c254-4e33-b6c5-1c7383291eb0"
      },
      "execution_count": 10,
      "outputs": [
        {
          "output_type": "stream",
          "name": "stdout",
          "text": [
            "[array([1, 2]), array([3, 4]), array([5])]\n"
          ]
        }
      ]
    },
    {
      "cell_type": "code",
      "source": [
        "\"\"\"10. Explain the concepts of vectorization and broadcasting in NumPy. How do they contribute to efficient array operations?\"\"\"\n",
        "# Vectorization: Refers to the process of applying operations to entire arrays rather than individual elements, enabling efficient computation without explicit loops.\n",
        "\n",
        "arr = np.array([1, 2, 3])\n",
        "result = arr + 2  # Vectorized addition\n",
        "# Output: [3, 4, 5]\n",
        "\n",
        "# Broadcasting: Allows NumPy to perform operations on arrays of different shapes by automatically expanding the smaller array to match the shape of the larger one.\n",
        "\n",
        "arr1 = np.array([1, 2, 3])\n",
        "arr2 = np.array([[1], [2], [3]])\n",
        "result = arr1 + arr2\n",
        "# Output:\n",
        "# [[2, 3, 4]\n",
        "#  [3, 4, 5]\n",
        "#  [4, 5, 6]]\n",
        "\"\"\"Together, vectorization and broadcasting significantly enhance performance by reducing the need for explicit loops and making operations more concise and faster.\"\"\"\n",
        "print(result)"
      ],
      "metadata": {
        "colab": {
          "base_uri": "https://localhost:8080/"
        },
        "id": "7OOHvsLos5-n",
        "outputId": "7011cff8-8bee-444f-f1a5-52f012c03720"
      },
      "execution_count": 11,
      "outputs": [
        {
          "output_type": "stream",
          "name": "stdout",
          "text": [
            "[[2 3 4]\n",
            " [3 4 5]\n",
            " [4 5 6]]\n"
          ]
        }
      ]
    },
    {
      "cell_type": "code",
      "source": [
        "# PRACTICAL QUESTIONS\n",
        "\n",
        "import numpy as np\n",
        "\n",
        "# 1. Create a 3x3 NumPy array with random integers between 1 and 100. Then, interchange its rows and columns.\n",
        "arr1 = np.random.randint(1, 101, (3, 3))\n",
        "print(\"Original array:\\n\", arr1)\n",
        "arr1_transposed = arr1.T\n",
        "print(\"Transposed array:\\n\", arr1_transposed)"
      ],
      "metadata": {
        "colab": {
          "base_uri": "https://localhost:8080/"
        },
        "id": "Tnuh8tpKyZDv",
        "outputId": "0c33af22-4888-43d4-ae43-a0107e4dfebb"
      },
      "execution_count": 13,
      "outputs": [
        {
          "output_type": "stream",
          "name": "stdout",
          "text": [
            "Original array:\n",
            " [[71 82 22]\n",
            " [10 68 95]\n",
            " [66  2 40]]\n",
            "Transposed array:\n",
            " [[71 10 66]\n",
            " [82 68  2]\n",
            " [22 95 40]]\n"
          ]
        }
      ]
    },
    {
      "cell_type": "code",
      "source": [
        "# 2. Generate a 1D NumPy array with 10 elements. Reshape it into a 2x5 array, then into a 5x2 array.\n",
        "arr2 = np.random.randint(1, 11, 10)\n",
        "print(\"Original array:\\n\", arr2)\n",
        "arr2_reshaped_2x5 = arr2.reshape(2, 5)\n",
        "print(\"Reshaped 2x5 array:\\n\", arr2_reshaped_2x5)\n",
        "arr2_reshaped_5x2 = arr2.reshape(5, 2)\n",
        "print(\"Reshaped 5x2 array:\\n\", arr2_reshaped_5x2)"
      ],
      "metadata": {
        "colab": {
          "base_uri": "https://localhost:8080/"
        },
        "id": "GSxm71Iwyle8",
        "outputId": "536ce1e6-552b-4e51-d571-35411894e655"
      },
      "execution_count": 14,
      "outputs": [
        {
          "output_type": "stream",
          "name": "stdout",
          "text": [
            "Original array:\n",
            " [ 9  9  8  6  9  8  2  1  3 10]\n",
            "Reshaped 2x5 array:\n",
            " [[ 9  9  8  6  9]\n",
            " [ 8  2  1  3 10]]\n",
            "Reshaped 5x2 array:\n",
            " [[ 9  9]\n",
            " [ 8  6]\n",
            " [ 9  8]\n",
            " [ 2  1]\n",
            " [ 3 10]]\n"
          ]
        }
      ]
    },
    {
      "cell_type": "code",
      "source": [
        "# 3. Create a 4x4 NumPy array with random float values. Add a border of zeros around it, resulting in a 6x6 array.\n",
        "arr3 = np.random.rand(4, 4)\n",
        "print(\"Original array:\\n\", arr3)\n",
        "arr3_padded = np.pad(arr3, ((1, 1), (1, 1)), mode='constant', constant_values=0)\n",
        "print(\"Padded array:\\n\", arr3_padded)"
      ],
      "metadata": {
        "colab": {
          "base_uri": "https://localhost:8080/"
        },
        "id": "KMR5Lxbrzfzu",
        "outputId": "6893e449-aebc-456c-c0e0-80ba6de0367d"
      },
      "execution_count": 15,
      "outputs": [
        {
          "output_type": "stream",
          "name": "stdout",
          "text": [
            "Original array:\n",
            " [[0.54724525 0.84707659 0.83968907 0.81034908]\n",
            " [0.05182964 0.33431135 0.5162614  0.82480384]\n",
            " [0.631454   0.10859519 0.15967042 0.51157318]\n",
            " [0.81818048 0.38374957 0.0997856  0.63932532]]\n",
            "Padded array:\n",
            " [[0.         0.         0.         0.         0.         0.        ]\n",
            " [0.         0.54724525 0.84707659 0.83968907 0.81034908 0.        ]\n",
            " [0.         0.05182964 0.33431135 0.5162614  0.82480384 0.        ]\n",
            " [0.         0.631454   0.10859519 0.15967042 0.51157318 0.        ]\n",
            " [0.         0.81818048 0.38374957 0.0997856  0.63932532 0.        ]\n",
            " [0.         0.         0.         0.         0.         0.        ]]\n"
          ]
        }
      ]
    },
    {
      "cell_type": "code",
      "source": [
        "# 4. Using NumPy, create an array of integers from 10 to 60 with a step of 5.\n",
        "arr4 = np.arange(10, 61, 5)\n",
        "print(\"Array of integers from 10 to 60 with a step of 5:\\n\", arr4)"
      ],
      "metadata": {
        "colab": {
          "base_uri": "https://localhost:8080/"
        },
        "id": "DYQmHletzkij",
        "outputId": "ddf7e6dd-28ee-4885-809d-3463a6c93d94"
      },
      "execution_count": 16,
      "outputs": [
        {
          "output_type": "stream",
          "name": "stdout",
          "text": [
            "Array of integers from 10 to 60 with a step of 5:\n",
            " [10 15 20 25 30 35 40 45 50 55 60]\n"
          ]
        }
      ]
    },
    {
      "cell_type": "code",
      "source": [
        "# 5. Create a NumPy array of strings ['python', 'numpy', 'pandas']. Apply different case transformations\n",
        "# (uppercase, lowercase, title case, etc.) to each element.\n",
        "arr5 = np.array(['python', 'numpy', 'pandas'])\n",
        "print(\"Original array:\\n\", arr5)\n",
        "\n",
        "arr5_uppercase = np.char.upper(arr5)  # Apply upper() to each element\n",
        "print(\"Uppercase array:\\n\", arr5_uppercase)\n",
        "arr5_lowercase = np.char.lower(arr5)  # Apply lower() to each element\n",
        "print(\"Lowercase array:\\n\", arr5_lowercase)\n",
        "arr5_titlecase = np.char.title(arr5)  # Apply title() to each element\n",
        "print(\"Title case array:\\n\", arr5_titlecase)"
      ],
      "metadata": {
        "colab": {
          "base_uri": "https://localhost:8080/"
        },
        "id": "R6M7pz8szoEF",
        "outputId": "1f30923e-1802-452f-cff7-adc95930cd17"
      },
      "execution_count": 18,
      "outputs": [
        {
          "output_type": "stream",
          "name": "stdout",
          "text": [
            "Original array:\n",
            " ['python' 'numpy' 'pandas']\n",
            "Uppercase array:\n",
            " ['PYTHON' 'NUMPY' 'PANDAS']\n",
            "Lowercase array:\n",
            " ['python' 'numpy' 'pandas']\n",
            "Title case array:\n",
            " ['Python' 'Numpy' 'Pandas']\n"
          ]
        }
      ]
    },
    {
      "cell_type": "code",
      "source": [
        "# 6. Generate a NumPy array of words. Insert a space between each character of every word in the array.\n",
        "arr6 = np.array(['apple', 'banana', 'orange'])\n",
        "print(\"Original array:\\n\", arr6)\n",
        "arr6_spaced = np.char.join(' ', arr6)\n",
        "print(\"Array with spaces between characters:\\n\", arr6_spaced)\n"
      ],
      "metadata": {
        "colab": {
          "base_uri": "https://localhost:8080/"
        },
        "id": "SjaB5bm2zrDV",
        "outputId": "d58d96ad-01c3-4c18-a941-ed82fae59267"
      },
      "execution_count": 19,
      "outputs": [
        {
          "output_type": "stream",
          "name": "stdout",
          "text": [
            "Original array:\n",
            " ['apple' 'banana' 'orange']\n",
            "Array with spaces between characters:\n",
            " ['a p p l e' 'b a n a n a' 'o r a n g e']\n"
          ]
        }
      ]
    },
    {
      "cell_type": "code",
      "source": [
        "# 7. Create two 2D NumPy arrays and perform element-wise addition, subtraction, multiplication, and division.\n",
        "arr7_1 = np.random.randint(1, 10, (3, 3))\n",
        "arr7_2 = np.random.randint(1, 10, (3, 3))\n",
        "print(\"Array 1:\\n\", arr7_1)\n",
        "print(\"Array 2:\\n\", arr7_2)\n",
        "print(\"Addition:\\n\", arr7_1 + arr7_2)\n",
        "print(\"Subtraction:\\n\", arr7_1 - arr7_2)\n",
        "print(\"Multiplication:\\n\", arr7_1 * arr7_2)\n",
        "print(\"Division:\\n\", arr7_1 / arr7_2)"
      ],
      "metadata": {
        "colab": {
          "base_uri": "https://localhost:8080/"
        },
        "id": "jnQ3OEQe0B7f",
        "outputId": "e9db2df6-9ee9-46ea-cad4-d38ae95b9681"
      },
      "execution_count": 20,
      "outputs": [
        {
          "output_type": "stream",
          "name": "stdout",
          "text": [
            "Array 1:\n",
            " [[9 6 4]\n",
            " [2 8 7]\n",
            " [5 9 1]]\n",
            "Array 2:\n",
            " [[2 6 4]\n",
            " [9 7 2]\n",
            " [9 9 3]]\n",
            "Addition:\n",
            " [[11 12  8]\n",
            " [11 15  9]\n",
            " [14 18  4]]\n",
            "Subtraction:\n",
            " [[ 7  0  0]\n",
            " [-7  1  5]\n",
            " [-4  0 -2]]\n",
            "Multiplication:\n",
            " [[18 36 16]\n",
            " [18 56 14]\n",
            " [45 81  3]]\n",
            "Division:\n",
            " [[4.5        1.         1.        ]\n",
            " [0.22222222 1.14285714 3.5       ]\n",
            " [0.55555556 1.         0.33333333]]\n"
          ]
        }
      ]
    },
    {
      "cell_type": "code",
      "source": [
        "# 8. Use NumPy to create a 5x5 identity matrix, then extract its diagonal elements.\n",
        "arr8 = np.eye(5)\n",
        "print(\"Identity matrix:\\n\", arr8)\n",
        "diagonal_elements = arr8.diagonal()\n",
        "print(\"Diagonal elements:\\n\", diagonal_elements)"
      ],
      "metadata": {
        "colab": {
          "base_uri": "https://localhost:8080/"
        },
        "id": "Fut7nMn20SeR",
        "outputId": "5ebe169f-d0cb-4778-db62-152f1e0f0274"
      },
      "execution_count": 21,
      "outputs": [
        {
          "output_type": "stream",
          "name": "stdout",
          "text": [
            "Identity matrix:\n",
            " [[1. 0. 0. 0. 0.]\n",
            " [0. 1. 0. 0. 0.]\n",
            " [0. 0. 1. 0. 0.]\n",
            " [0. 0. 0. 1. 0.]\n",
            " [0. 0. 0. 0. 1.]]\n",
            "Diagonal elements:\n",
            " [1. 1. 1. 1. 1.]\n"
          ]
        }
      ]
    },
    {
      "cell_type": "code",
      "source": [
        "# 9. Generate a NumPy array of 100 random integers between 0 and 1000. Find and display all prime numbers in\n",
        "# this array.\n",
        "def is_prime(num):\n",
        "    if num <= 1:\n",
        "        return False\n",
        "    for i in range(2, int(num**0.5) + 1):\n",
        "        if num % i == 0:\n",
        "            return False\n",
        "    return True\n",
        "\n",
        "arr9 = np.random.randint(0, 1001, 100)\n",
        "print(\"Original array:\\n\", arr9)\n",
        "prime_numbers = arr9[np.vectorize(is_prime)(arr9)]\n",
        "print(\"Prime numbers:\\n\", prime_numbers)"
      ],
      "metadata": {
        "colab": {
          "base_uri": "https://localhost:8080/"
        },
        "id": "PRPNTQS00U7R",
        "outputId": "bab7c2e4-3c74-4eb7-ade4-e78d51c2ee21"
      },
      "execution_count": 22,
      "outputs": [
        {
          "output_type": "stream",
          "name": "stdout",
          "text": [
            "Original array:\n",
            " [154 575 359 918   6 956 436 292 852  51 921 794 444 667 910 758 345 385\n",
            " 547 769 830 725 903 631 919 906 778 477 231 618 279  66 961 296 716 335\n",
            " 883 296 509 887 819 661 646 104 895 296 645 982 518 817 297 460 254  47\n",
            " 386 844  61 155  15 295 630 256 993 228 956 354 353 131  72 872 739 224\n",
            " 850 693 502 700 614 167 113 862 755 650 373 539 893 992 439 907 353 324\n",
            " 528 102 861  88 148 955 448 925 161 678]\n",
            "Prime numbers:\n",
            " [359 547 769 631 919 883 509 887 661  47  61 353 131 739 167 113 373 439\n",
            " 907 353]\n"
          ]
        }
      ]
    },
    {
      "cell_type": "code",
      "source": [
        "# 10. Create a NumPy array representing daily temperatures for a month. Calculate and display the weekly\n",
        "# averages.\n",
        "arr10 = np.random.randint(60, 90, 30)\n",
        "print(\"Daily temperatures:\\n\", arr10)\n",
        "weekly_averages = np.mean(arr10.reshape(5, 6), axis=1)\n",
        "print(\"Weekly averages:\\n\", weekly_averages)"
      ],
      "metadata": {
        "colab": {
          "base_uri": "https://localhost:8080/"
        },
        "id": "kfbG6_cQ0Ym8",
        "outputId": "f23a8a8e-ef68-4a6e-950a-ccf7ea3aca11"
      },
      "execution_count": 23,
      "outputs": [
        {
          "output_type": "stream",
          "name": "stdout",
          "text": [
            "Daily temperatures:\n",
            " [79 62 79 81 64 86 70 63 75 69 85 62 86 63 73 63 73 80 73 63 61 76 62 62\n",
            " 65 74 64 74 81 85]\n",
            "Weekly averages:\n",
            " [75.16666667 70.66666667 73.         66.16666667 73.83333333]\n"
          ]
        }
      ]
    }
  ]
}